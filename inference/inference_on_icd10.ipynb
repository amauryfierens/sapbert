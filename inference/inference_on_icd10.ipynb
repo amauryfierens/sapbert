{
 "cells": [
  {
   "attachments": {},
   "cell_type": "markdown",
   "metadata": {},
   "source": [
    "### load ICD10"
   ]
  },
  {
   "cell_type": "code",
   "execution_count": 10,
   "metadata": {},
   "outputs": [],
   "source": [
    "import networkx as nx\n",
    "from tqdm import tqdm\n",
    "from ICD10 import ICD10"
   ]
  },
  {
   "cell_type": "code",
   "execution_count": 11,
   "metadata": {},
   "outputs": [],
   "source": [
    "ICD10_PATH = \"/home/amfierens/Documents/Researcher/ICD10/icd10OrderFiles/icd10cm_order_2023.txt\"\n",
    "icd10 = ICD10(ICD10_PATH)\n",
    "icd10.load_icd10()"
   ]
  },
  {
   "cell_type": "code",
   "execution_count": 12,
   "metadata": {},
   "outputs": [
    {
     "name": "stderr",
     "output_type": "stream",
     "text": [
      "100%|██████████| 96795/96795 [00:00<00:00, 1172480.12it/s]"
     ]
    },
    {
     "name": "stdout",
     "output_type": "stream",
     "text": [
      "96795\n"
     ]
    },
    {
     "name": "stderr",
     "output_type": "stream",
     "text": [
      "\n"
     ]
    }
   ],
   "source": [
    "icd10_sf_id_pairs = []\n",
    "\n",
    "for icd_code in tqdm(icd10.graph.nodes):\n",
    "    \n",
    "    node_descs = icd10.index_definition[icd_code]\n",
    "    for d in node_descs:\n",
    "        icd10_sf_id_pairs.append((d, icd_code))\n",
    "\n",
    "print(len(icd10_sf_id_pairs))"
   ]
  },
  {
   "cell_type": "code",
   "execution_count": 13,
   "metadata": {},
   "outputs": [
    {
     "data": {
      "text/plain": [
       "[('Cholera', 'A00'),\n",
       " ('Cholera due to Vibrio cholerae 01, biovar cholerae', 'A000'),\n",
       " ('Cholera due to Vibrio cholerae 01, biovar eltor', 'A001'),\n",
       " ('Cholera, unspecified', 'A009'),\n",
       " ('Typhoid and paratyphoid fevers', 'A01'),\n",
       " ('Typhoid fever', 'A010'),\n",
       " ('Typhoid fever, unspecified', 'A0100'),\n",
       " ('Typhoid meningitis', 'A0101'),\n",
       " ('Typhoid fever with heart involvement', 'A0102'),\n",
       " ('Typhoid pneumonia', 'A0103')]"
      ]
     },
     "execution_count": 13,
     "metadata": {},
     "output_type": "execute_result"
    }
   ],
   "source": [
    "icd10_sf_id_pairs[:10]"
   ]
  },
  {
   "cell_type": "code",
   "execution_count": 14,
   "metadata": {},
   "outputs": [],
   "source": [
    "icd10_sf_id_pairs = icd10_sf_id_pairs[:50000] "
   ]
  },
  {
   "cell_type": "code",
   "execution_count": 15,
   "metadata": {},
   "outputs": [],
   "source": [
    "all_names = [p[0] for p in icd10_sf_id_pairs]\n",
    "all_ids = [p[1] for p in icd10_sf_id_pairs]"
   ]
  },
  {
   "cell_type": "code",
   "execution_count": 16,
   "metadata": {},
   "outputs": [
    {
     "data": {
      "text/plain": [
       "['Cholera',\n",
       " 'Cholera due to Vibrio cholerae 01, biovar cholerae',\n",
       " 'Cholera due to Vibrio cholerae 01, biovar eltor',\n",
       " 'Cholera, unspecified',\n",
       " 'Typhoid and paratyphoid fevers',\n",
       " 'Typhoid fever',\n",
       " 'Typhoid fever, unspecified',\n",
       " 'Typhoid meningitis',\n",
       " 'Typhoid fever with heart involvement',\n",
       " 'Typhoid pneumonia']"
      ]
     },
     "execution_count": 16,
     "metadata": {},
     "output_type": "execute_result"
    }
   ],
   "source": [
    "all_names[:10]"
   ]
  },
  {
   "cell_type": "code",
   "execution_count": 17,
   "metadata": {},
   "outputs": [
    {
     "name": "stdout",
     "output_type": "stream",
     "text": [
      "['A00']\n"
     ]
    },
    {
     "data": {
      "text/plain": [
       "['A00',\n",
       " 'A000',\n",
       " 'A001',\n",
       " 'A009',\n",
       " 'A01',\n",
       " 'A010',\n",
       " 'A0100',\n",
       " 'A0101',\n",
       " 'A0102',\n",
       " 'A0103']"
      ]
     },
     "execution_count": 17,
     "metadata": {},
     "output_type": "execute_result"
    }
   ],
   "source": [
    "print(icd10.predecessors(all_ids[1]))\n",
    "all_ids[:10]\n"
   ]
  },
  {
   "attachments": {},
   "cell_type": "markdown",
   "metadata": {},
   "source": [
    "### load sapbert"
   ]
  },
  {
   "cell_type": "code",
   "execution_count": 18,
   "metadata": {},
   "outputs": [
    {
     "name": "stdout",
     "output_type": "stream",
     "text": [
      "Requirement already satisfied: transformers in /home/amfierens/anaconda3/lib/python3.9/site-packages (4.30.2)\n",
      "Requirement already satisfied: filelock in /home/amfierens/anaconda3/lib/python3.9/site-packages (from transformers) (3.6.0)\n",
      "Requirement already satisfied: regex!=2019.12.17 in /home/amfierens/anaconda3/lib/python3.9/site-packages (from transformers) (2022.7.9)\n",
      "Requirement already satisfied: packaging>=20.0 in /home/amfierens/anaconda3/lib/python3.9/site-packages (from transformers) (21.3)\n",
      "Requirement already satisfied: requests in /home/amfierens/anaconda3/lib/python3.9/site-packages (from transformers) (2.28.1)\n",
      "Requirement already satisfied: huggingface-hub<1.0,>=0.14.1 in /home/amfierens/anaconda3/lib/python3.9/site-packages (from transformers) (0.15.1)\n",
      "Requirement already satisfied: pyyaml>=5.1 in /home/amfierens/anaconda3/lib/python3.9/site-packages (from transformers) (6.0)\n",
      "Requirement already satisfied: numpy>=1.17 in /home/amfierens/anaconda3/lib/python3.9/site-packages (from transformers) (1.21.5)\n",
      "Requirement already satisfied: safetensors>=0.3.1 in /home/amfierens/anaconda3/lib/python3.9/site-packages (from transformers) (0.3.1)\n",
      "Requirement already satisfied: tokenizers!=0.11.3,<0.14,>=0.11.1 in /home/amfierens/anaconda3/lib/python3.9/site-packages (from transformers) (0.13.3)\n",
      "Requirement already satisfied: tqdm>=4.27 in /home/amfierens/anaconda3/lib/python3.9/site-packages (from transformers) (4.64.1)\n",
      "Requirement already satisfied: typing-extensions>=3.7.4.3 in /home/amfierens/anaconda3/lib/python3.9/site-packages (from huggingface-hub<1.0,>=0.14.1->transformers) (4.3.0)\n",
      "Requirement already satisfied: fsspec in /home/amfierens/anaconda3/lib/python3.9/site-packages (from huggingface-hub<1.0,>=0.14.1->transformers) (2022.7.1)\n",
      "Requirement already satisfied: pyparsing!=3.0.5,>=2.0.2 in /home/amfierens/anaconda3/lib/python3.9/site-packages (from packaging>=20.0->transformers) (3.0.9)\n",
      "Requirement already satisfied: idna<4,>=2.5 in /home/amfierens/anaconda3/lib/python3.9/site-packages (from requests->transformers) (3.3)\n",
      "Requirement already satisfied: certifi>=2017.4.17 in /home/amfierens/anaconda3/lib/python3.9/site-packages (from requests->transformers) (2022.9.14)\n",
      "Requirement already satisfied: charset-normalizer<3,>=2 in /home/amfierens/anaconda3/lib/python3.9/site-packages (from requests->transformers) (2.0.4)\n",
      "Requirement already satisfied: urllib3<1.27,>=1.21.1 in /home/amfierens/anaconda3/lib/python3.9/site-packages (from requests->transformers) (1.26.11)\n",
      "Requirement already satisfied: torch in /home/amfierens/anaconda3/lib/python3.9/site-packages (2.0.1)\n",
      "Requirement already satisfied: nvidia-nvtx-cu11==11.7.91 in /home/amfierens/anaconda3/lib/python3.9/site-packages (from torch) (11.7.91)\n",
      "Requirement already satisfied: nvidia-cufft-cu11==10.9.0.58 in /home/amfierens/anaconda3/lib/python3.9/site-packages (from torch) (10.9.0.58)\n",
      "Requirement already satisfied: filelock in /home/amfierens/anaconda3/lib/python3.9/site-packages (from torch) (3.6.0)\n",
      "Requirement already satisfied: nvidia-cusparse-cu11==11.7.4.91 in /home/amfierens/anaconda3/lib/python3.9/site-packages (from torch) (11.7.4.91)\n",
      "Requirement already satisfied: typing-extensions in /home/amfierens/anaconda3/lib/python3.9/site-packages (from torch) (4.3.0)\n",
      "Requirement already satisfied: nvidia-cublas-cu11==11.10.3.66 in /home/amfierens/anaconda3/lib/python3.9/site-packages (from torch) (11.10.3.66)\n",
      "Requirement already satisfied: sympy in /home/amfierens/anaconda3/lib/python3.9/site-packages (from torch) (1.10.1)\n",
      "Requirement already satisfied: nvidia-cudnn-cu11==8.5.0.96 in /home/amfierens/anaconda3/lib/python3.9/site-packages (from torch) (8.5.0.96)\n",
      "Requirement already satisfied: triton==2.0.0 in /home/amfierens/anaconda3/lib/python3.9/site-packages (from torch) (2.0.0)\n",
      "Requirement already satisfied: nvidia-cuda-cupti-cu11==11.7.101 in /home/amfierens/anaconda3/lib/python3.9/site-packages (from torch) (11.7.101)\n",
      "Requirement already satisfied: nvidia-cusolver-cu11==11.4.0.1 in /home/amfierens/anaconda3/lib/python3.9/site-packages (from torch) (11.4.0.1)\n",
      "Requirement already satisfied: nvidia-nccl-cu11==2.14.3 in /home/amfierens/anaconda3/lib/python3.9/site-packages (from torch) (2.14.3)\n",
      "Requirement already satisfied: networkx in /home/amfierens/anaconda3/lib/python3.9/site-packages (from torch) (2.8.4)\n",
      "Requirement already satisfied: nvidia-cuda-nvrtc-cu11==11.7.99 in /home/amfierens/anaconda3/lib/python3.9/site-packages (from torch) (11.7.99)\n",
      "Requirement already satisfied: jinja2 in /home/amfierens/anaconda3/lib/python3.9/site-packages (from torch) (2.11.3)\n",
      "Requirement already satisfied: nvidia-curand-cu11==10.2.10.91 in /home/amfierens/anaconda3/lib/python3.9/site-packages (from torch) (10.2.10.91)\n",
      "Requirement already satisfied: nvidia-cuda-runtime-cu11==11.7.99 in /home/amfierens/anaconda3/lib/python3.9/site-packages (from torch) (11.7.99)\n",
      "Requirement already satisfied: wheel in /home/amfierens/anaconda3/lib/python3.9/site-packages (from nvidia-cublas-cu11==11.10.3.66->torch) (0.37.1)\n",
      "Requirement already satisfied: setuptools in /home/amfierens/anaconda3/lib/python3.9/site-packages (from nvidia-cublas-cu11==11.10.3.66->torch) (63.4.1)\n",
      "Requirement already satisfied: lit in /home/amfierens/anaconda3/lib/python3.9/site-packages (from triton==2.0.0->torch) (16.0.6)\n",
      "Requirement already satisfied: cmake in /home/amfierens/anaconda3/lib/python3.9/site-packages (from triton==2.0.0->torch) (3.26.4)\n",
      "Requirement already satisfied: MarkupSafe>=0.23 in /home/amfierens/anaconda3/lib/python3.9/site-packages (from jinja2->torch) (2.0.1)\n",
      "Requirement already satisfied: mpmath>=0.19 in /home/amfierens/anaconda3/lib/python3.9/site-packages (from sympy->torch) (1.2.1)\n"
     ]
    }
   ],
   "source": [
    "!pip install transformers\n",
    "!pip install torch"
   ]
  },
  {
   "cell_type": "code",
   "execution_count": 19,
   "metadata": {},
   "outputs": [],
   "source": [
    "from transformers import AutoTokenizer, AutoModel  \n",
    "tokenizer = AutoTokenizer.from_pretrained(\"cambridgeltl/SapBERT-from-PubMedBERT-fulltext\")  \n",
    "model = AutoModel.from_pretrained(\"cambridgeltl/SapBERT-from-PubMedBERT-fulltext\") #.cuda(1)"
   ]
  },
  {
   "cell_type": "code",
   "execution_count": 20,
   "metadata": {},
   "outputs": [],
   "source": [
    "import numpy as np\n",
    "import torch"
   ]
  },
  {
   "attachments": {},
   "cell_type": "markdown",
   "metadata": {},
   "source": [
    "### encode ICD10 labels"
   ]
  },
  {
   "cell_type": "code",
   "execution_count": 21,
   "metadata": {},
   "outputs": [
    {
     "name": "stderr",
     "output_type": "stream",
     "text": [
      "  0%|          | 0/1563 [00:00<?, ?it/s]"
     ]
    },
    {
     "name": "stderr",
     "output_type": "stream",
     "text": [
      "100%|██████████| 1563/1563 [21:31<00:00,  1.21it/s]\n"
     ]
    }
   ],
   "source": [
    "bs = 32\n",
    "all_reps = []\n",
    "for i in tqdm(np.arange(0, len(all_names), bs)):\n",
    "    toks = tokenizer.batch_encode_plus(all_names[i:i+bs], \n",
    "                                       padding=\"max_length\", \n",
    "                                       max_length=25, \n",
    "                                       truncation=True,\n",
    "                                       return_tensors=\"pt\")\n",
    "    #toks_cuda = {}\n",
    "    #for k,v in toks.items():\n",
    "    #    toks_cuda[k] = v.cuda(1)\n",
    "    #output = model(**toks_cuda)\n",
    "    \n",
    "    output = model(**toks)\n",
    "    cls_rep = output[0][:,0,:]\n",
    "    \n",
    "    all_reps.append(cls_rep.cpu().detach().numpy())\n",
    "all_reps_emb = np.concatenate(all_reps, axis=0)"
   ]
  },
  {
   "cell_type": "code",
   "execution_count": 22,
   "metadata": {},
   "outputs": [
    {
     "name": "stdout",
     "output_type": "stream",
     "text": [
      "(50000, 768)\n"
     ]
    }
   ],
   "source": [
    "print (all_reps_emb.shape)"
   ]
  },
  {
   "attachments": {},
   "cell_type": "markdown",
   "metadata": {},
   "source": [
    "### encode query"
   ]
  },
  {
   "cell_type": "code",
   "execution_count": 32,
   "metadata": {},
   "outputs": [],
   "source": [
    "query = \"arthritis\"\n",
    "query_toks = tokenizer.batch_encode_plus([query], \n",
    "                                       padding=\"max_length\", \n",
    "                                       max_length=25, \n",
    "                                       truncation=True,\n",
    "                                       return_tensors=\"pt\")"
   ]
  },
  {
   "cell_type": "code",
   "execution_count": 33,
   "metadata": {},
   "outputs": [],
   "source": [
    "query_output = model(**query_toks)\n",
    "query_cls_rep = query_output[0][:,0,:]"
   ]
  },
  {
   "cell_type": "code",
   "execution_count": 34,
   "metadata": {},
   "outputs": [
    {
     "data": {
      "text/plain": [
       "torch.Size([1, 768])"
      ]
     },
     "execution_count": 34,
     "metadata": {},
     "output_type": "execute_result"
    }
   ],
   "source": [
    "query_cls_rep.shape"
   ]
  },
  {
   "attachments": {},
   "cell_type": "markdown",
   "metadata": {},
   "source": [
    "### find query's nearest neighbour"
   ]
  },
  {
   "cell_type": "code",
   "execution_count": 35,
   "metadata": {},
   "outputs": [],
   "source": [
    "# for large-scale search, should switch to faiss\n",
    "from scipy.spatial.distance import cdist"
   ]
  },
  {
   "cell_type": "code",
   "execution_count": 36,
   "metadata": {},
   "outputs": [
    {
     "name": "stdout",
     "output_type": "stream",
     "text": [
      "predicted label: ('Arthropathy, unspecified', 'M129')\n"
     ]
    }
   ],
   "source": [
    "dist = cdist(query_cls_rep.cpu().detach().numpy(), all_reps_emb)\n",
    "nn_index = np.argmin(dist)\n",
    "print (\"predicted label:\", icd10_sf_id_pairs[nn_index])"
   ]
  },
  {
   "cell_type": "code",
   "execution_count": 38,
   "metadata": {},
   "outputs": [
    {
     "name": "stdout",
     "output_type": "stream",
     "text": [
      "====================\n",
      "Predicted label 0: ('Arthropathy, unspecified', 'M129')\n",
      "\tpredecessor 0: M12 {'desc': 'Other and unspecified arthropathy'}\n",
      "====================\n",
      "Predicted label 1: ('Rheumatism, unspecified', 'M790')\n",
      "\tpredecessor 0: M79 {'desc': 'Oth and unsp soft tissue disorders, not elsewhere classified'}\n",
      "====================\n",
      "Predicted label 2: ('Osteoarthritis, unspecified site', 'M199')\n",
      "\tpredecessor 0: M19 {'desc': 'Other and unspecified osteoarthritis'}\n",
      "====================\n",
      "Predicted label 3: ('Other arthritis', 'M13')\n",
      "====================\n",
      "Predicted label 4: ('Pain in joint', 'M255')\n",
      "\tpredecessor 0: M25 {'desc': 'Other joint disorder, not elsewhere classified'}\n",
      "====================\n",
      "Predicted label 5: ('Pain in unspecified joint', 'M2550')\n",
      "\tpredecessor 0: M255 {'desc': 'Pain in joint'}\n",
      "====================\n",
      "Predicted label 6: ('Unspecified osteoarthritis, unspecified site', 'M1990')\n",
      "\tpredecessor 0: M199 {'desc': 'Osteoarthritis, unspecified site'}\n",
      "====================\n",
      "Predicted label 7: ('Joint disorder, unspecified', 'M259')\n",
      "\tpredecessor 0: M25 {'desc': 'Other joint disorder, not elsewhere classified'}\n",
      "====================\n",
      "Predicted label 8: ('Reactive arthropathy, unspecified', 'M029')\n",
      "\tpredecessor 0: M02 {'desc': 'Postinfective and reactive arthropathies'}\n",
      "====================\n",
      "Predicted label 9: ('Rheumatoid arthritis, unspecified', 'M069')\n",
      "\tpredecessor 0: M06 {'desc': 'Other rheumatoid arthritis'}\n"
     ]
    }
   ],
   "source": [
    "indexes = np.argsort(dist[0])[:10]\n",
    "\n",
    "for i, index in enumerate(indexes):\n",
    "    print(\"====================\")\n",
    "    print (f\"Predicted label {i}:\", icd10_sf_id_pairs[index])\n",
    "    for k, pred in enumerate(icd10.predecessors(icd10_sf_id_pairs[index][1])):\n",
    "        print (f\"\\tpredecessor {k}:\", pred, icd10[pred])"
   ]
  },
  {
   "cell_type": "code",
   "execution_count": 29,
   "metadata": {},
   "outputs": [
    {
     "name": "stdout",
     "output_type": "stream",
     "text": [
      "['J4599']\n"
     ]
    },
    {
     "data": {
      "text/plain": [
       "{'desc': 'Other asthma'}"
      ]
     },
     "execution_count": 29,
     "metadata": {},
     "output_type": "execute_result"
    }
   ],
   "source": [
    "print(icd10.predecessors('J45998'))\n",
    "icd10['J4599']"
   ]
  }
 ],
 "metadata": {
  "kernelspec": {
   "display_name": "base",
   "language": "python",
   "name": "python3"
  },
  "language_info": {
   "codemirror_mode": {
    "name": "ipython",
    "version": 3
   },
   "file_extension": ".py",
   "mimetype": "text/x-python",
   "name": "python",
   "nbconvert_exporter": "python",
   "pygments_lexer": "ipython3",
   "version": "3.9.13"
  },
  "orig_nbformat": 4
 },
 "nbformat": 4,
 "nbformat_minor": 2
}
